{
 "cells": [
  {
   "cell_type": "code",
   "execution_count": 1,
   "id": "4995d866",
   "metadata": {},
   "outputs": [],
   "source": [
    "#import packages we will need\n",
    "import pandas as pd\n",
    "import numpy as np\n",
    "import matplotlib.pyplot as plt\n",
    "\n",
    "#packages for svm\n",
    "from sklearn.svm import SVC\n",
    "from sklearn.preprocessing import StandardScaler\n",
    "from sklearn.preprocessing import OneHotEncoder\n",
    "from sklearn.model_selection import train_test_split\n",
    "from sklearn.metrics import classification_report\n",
    "from sklearn.model_selection import GridSearchCV\n",
    "\n",
    "#packages for linear regression\n",
    "from sklearn.linear_model import LinearRegression\n",
    "\n",
    "#packages for\n",
    "from sklearn.preprocessing import PolynomialFeatures\n",
    "from sklearn.metrics import mean_squared_error"
   ]
  },
  {
   "cell_type": "markdown",
   "id": "4ac5ed1c",
   "metadata": {},
   "source": [
    "# Data Cleaning for Reef Base Data Set"
   ]
  },
  {
   "cell_type": "code",
   "execution_count": 2,
   "id": "d0d82547",
   "metadata": {},
   "outputs": [],
   "source": [
    "# import the data set\n",
    "coral_df = pd.read_excel('CoralBleaching.xlsx')"
   ]
  },
  {
   "cell_type": "code",
   "execution_count": 3,
   "id": "d29a028b",
   "metadata": {},
   "outputs": [],
   "source": [
    "#changing types on the objects for future analysis\n",
    "coral_df['REGION']  = coral_df['REGION'].astype('string')\n",
    "coral_df['SUBREGION']  = coral_df['SUBREGION'].astype('string')\n",
    "coral_df['COUNTRY']  = coral_df['COUNTRY'].astype('string')\n",
    "\n",
    "#location is the most spefifc marker, will be harder to group by\n",
    "coral_df['LOCATION']  = coral_df['LOCATION'].astype('string')\n",
    "\n",
    "#depth is stored as integers, floats, ranges of values. Will need to be turned into single floats\n",
    "coral_df['DEPTH']  = coral_df['DEPTH'].astype('string')\n",
    "\n",
    "#severity code is measured with a string: Severity Unknown, No Bleaching, Low, Medium, High\n",
    "#will be stored as strings\n",
    "coral_df['BLEACHING_SEVERITY']  = coral_df['BLEACHING_SEVERITY'].astype('string')\n",
    "\n",
    "#coral family and species will both be stored as strings\n",
    "coral_df['CORAL_FAMILY']  = coral_df['CORAL_FAMILY'].astype('string')\n",
    "coral_df['CORAL_SPECIES']  = coral_df['CORAL_SPECIES'].astype('string')\n",
    "#note! coral species entries often has several species inside it, \n",
    "#when doing group analysis this could be taken into account, use string methods like contains instead of ==\n",
    "\n",
    "#percentage affected has a similar issue to depth, some are ints some have percentages behind them, some are ranges\n",
    "#needs to be stored as a single float\n",
    "coral_df['DEPTH']  = coral_df['DEPTH'].astype('string')\n",
    "\n",
    "# another issue with the depth column is that some of the entries are measured in ft and some in m while many of \n",
    "# them have no label at all\n",
    "# For the unlabeled measurements I am going to assume that they are in meters unless the country is the US in which\n",
    "# case we will disregard the measurement as some US scientists measure in imperial and some in metric\n",
    "\n",
    "#check if what has been given is float and it it is not, just return an empty string (null value)\n",
    "def try_float(s):\n",
    "  try:\n",
    "    float(s)\n",
    "    return float(s)\n",
    "  except:\n",
    "    return None\n",
    "\n",
    "\n",
    "def depth_clean(s, c):\n",
    "    #check so it does not run on null values\n",
    "    if type(s) == str:\n",
    "        if s.find('ft')!=-1:\n",
    "            return ft_clean(s)\n",
    "        elif s.find('m')!=-1:\n",
    "            return m_clean(s)\n",
    "        else:\n",
    "            if c.find('USA')!=-1:\n",
    "                return None\n",
    "            else:\n",
    "                return m_clean(s)\n",
    "\n",
    "def m_clean(s):\n",
    "    # check is there is an m\n",
    "    # this is also called on the values with no length lable\n",
    "    if s.find('m')!=-1:\n",
    "        i = s.index('m')\n",
    "        s = s[:i]\n",
    "    #check if there is a - symbol \n",
    "    if s.find('-')!=-1:\n",
    "        #slice the substring to exclude the - and everything afterwards\n",
    "        #this will mean that for ranges we are taking the smaller value\n",
    "        i = s.index('-')\n",
    "        s = s[:i]\n",
    "    #check if there is a < symbol\n",
    "    if s.find('<') !=-1:\n",
    "        i = s.index('<')\n",
    "        s = s[i+1:]\n",
    "    #check if there is a > symbol\n",
    "    if s.find('>') !=-1:\n",
    "        i = s.index('>')\n",
    "        s = s[i+1:]\n",
    "    return try_float(s)\n",
    "    \n",
    "def ft_clean(s):\n",
    "    i = s.index('ft')\n",
    "    s = s[:i]\n",
    "    #check if there is a - symbol \n",
    "    if s.find('-')!=-1:\n",
    "        #slice the substring to exclude the - and everything afterwards\n",
    "        #this will mean that for ranges we are taking the smaller value\n",
    "        i = s.index('-')\n",
    "        s = s[:i]\n",
    "    #check if there is a < symbol\n",
    "    if s.find('<') !=-1:\n",
    "        i = s.index('<')\n",
    "        s = s[i+1:]\n",
    "    #check if there is a > symbol\n",
    "    if s.find('>') !=-1:\n",
    "        i = s.index('>')\n",
    "        s = s[i+1:]\n",
    "    s = try_float(s)\n",
    "    if type(s) == float:\n",
    "        return s * 0.3048\n",
    "\n",
    "#converting country code to string for comparison in the function  \n",
    "coral_df['COUNTRY_CODE']  = coral_df['COUNTRY_CODE'].astype('string')\n",
    "\n",
    "coral_df['DEPTH_CLEANED'] = coral_df.apply(lambda x: depth_clean(x['DEPTH'], x['COUNTRY_CODE']), axis=1)\n",
    "\n",
    "#bleaching duration looks to be unusable, most of the columns are left blank \n",
    "#and those that are not are sparce with information, a lot are missing years and we cannot be sure that it is the \n",
    "#year of publication (2016) as the data goes back to 1963, we recommend it is dropped\n",
    "\n",
    "#We cannot find the documentation for revocery code and recovery, but it is easier to intuit what these mean\n",
    "#for morality code\n",
    "# - 3 means that the coral has started a small amount of recovery\n",
    "# - 2 means the coral has achived 50% recoveray\n",
    "# - 0 means the coral is fully recovered\n",
    "# it is inconclusive what 1 means, but it can be intuited that it means that the coral is close to full recovery\n",
    "#I do not think this data can provide useful insight. It only has 91 non null values in addition to the fact \n",
    "#that I am not fully sure what  those values mean\n",
    "\n",
    "#survey type can be stored as string\n",
    "\n",
    "#percantge effected needs to be cleaned as some of the values are stored as range of percentages, \n",
    "#some as ints, some as floats and some with the %, ideally we want all these values to be single floats with no \n",
    "#other symbols for analysis\n",
    "coral_df['PERCENTAGE_AFFECTED']  = coral_df['PERCENTAGE_AFFECTED'].astype('string')\n",
    "\n",
    "#take in the string that rerpresnts the percenage and make it a single float\n",
    "def percentage_clean(s):\n",
    "    #check so it does not run on null values\n",
    "    if type(s) == str:\n",
    "        #check if there is a % symbol\n",
    "        if s.find('%')!=-1:\n",
    "            #slice the substring to exclude the % and everything afterwards\n",
    "            i = s.index('%')\n",
    "            s = s[:i]\n",
    "        #check if there is a - symbol \n",
    "        if s.find('-')!=-1:\n",
    "            #slice the substring to exclude the - and everything afterwards\n",
    "            #this will mean that for ranges we are taking the smaller value\n",
    "            i = s.index('-')\n",
    "            s = s[:i]\n",
    "        #check if there is a < symbol\n",
    "        if s.find('<') !=-1:\n",
    "            i = s.index('<')\n",
    "            s = s[i+1:]\n",
    "        #check if there is a > symbol\n",
    "        if s.find('>') !=-1:\n",
    "            i = s.index('>')\n",
    "            s = s[i+1:]\n",
    "        return try_float(s)\n",
    "    \n",
    "coral_df['PERCENTAGE_AFFECTED_CLEANED'] = coral_df['PERCENTAGE_AFFECTED'].apply(percentage_clean)"
   ]
  },
  {
   "cell_type": "code",
   "execution_count": 4,
   "id": "507b6dc9",
   "metadata": {},
   "outputs": [],
   "source": [
    "def clean_temp(df):\n",
    "    '''Function to clean temperature column'''\n",
    "    for i, row in df.iterrows():\n",
    "        temp = row['WATER_TEMPERATURE']\n",
    "        # check if temperature could be a float\n",
    "        if try_float(temp):\n",
    "            # if yes and val is less than 40 (celcius), convert to float\n",
    "            if float(temp) < 40:\n",
    "                df.loc[i, ['WATER_TEMPERATURE']] = float(temp)\n",
    "        else:\n",
    "            # if not, clean up string\n",
    "            number_lst = []\n",
    "            # split by spaces\n",
    "            str_lst = temp.split(' ')\n",
    "            # iterate over words\n",
    "            for a_str in str_lst:\n",
    "                # check if it could be a float\n",
    "                # remove any symbols in the strings\n",
    "                character_lst = ['c', 'C', 'f' '°C', 'Celcius', 'celcius', 'deg', 'oC', '°', 'o']\n",
    "                for character in character_lst:\n",
    "                    num = a_str.replace(character, '')\n",
    "                if try_float(a_str):\n",
    "                    # check if value is less than 40 and convert to float\n",
    "                    if float(a_str) < 40:\n",
    "                        # if it is a range of values, append it to list \n",
    "                        number_lst.append(float(a_str))\n",
    "                # check if it uses '-' for the range\n",
    "                elif '-' in a_str:\n",
    "                    # split the word by '-'\n",
    "                    num_range = a_str.split('-')\n",
    "                    # iterate over the 2 number strings\n",
    "                    for num in num_range:\n",
    "                        # remove any symbols in the strings\n",
    "                        character_lst = ['c', 'C', 'f' '°C', 'Celcius', 'celcius', 'deg', 'oC', '°', 'o']\n",
    "                        for character in character_lst:\n",
    "                            num = num.replace(character, '')\n",
    "                        # convert to float and append to list\n",
    "                        if try_float(num):\n",
    "                            if float(num) < 40:\n",
    "                                number_lst.append(float(num))\n",
    "            # try to get the mean of values in the list of numbers\n",
    "            try: \n",
    "                df.loc[i, ['WATER_TEMPERATURE']] = sum(number_lst) / len(number_lst)\n",
    "            except:\n",
    "                df.loc[i, ['WATER_TEMPERATURE']] = None\n",
    "        \n",
    "    return df      \n",
    "\n",
    "def try_float(string):\n",
    "    '''Function to check if string could be float'''\n",
    "    try:\n",
    "        a_float = float(string)\n",
    "        if type(a_float) == float:\n",
    "            return True\n",
    "    except:\n",
    "        return False\n",
    "    \n",
    "coral_df = clean_temp(coral_df)"
   ]
  },
  {
   "cell_type": "markdown",
   "id": "f51e489b",
   "metadata": {},
   "source": [
    "## Algorithm 1: Making a Support Vector Machine to Predict Sevarity Labels for Supp Data Set for Vizulization"
   ]
  },
  {
   "cell_type": "code",
   "execution_count": 5,
   "id": "cf1e7100",
   "metadata": {},
   "outputs": [
    {
     "name": "stdout",
     "output_type": "stream",
     "text": [
      "<class 'pandas.core.frame.DataFrame'>\n",
      "Int64Index: 2909 entries, 0 to 6186\n",
      "Data columns (total 5 columns):\n",
      " #   Column         Non-Null Count  Dtype  \n",
      "---  ------         --------------  -----  \n",
      " 0   SEVERITY_CODE  2909 non-null   int64  \n",
      " 1   DEPTH          2909 non-null   float64\n",
      " 2   LAT            2909 non-null   float64\n",
      " 3   LON            2909 non-null   float64\n",
      " 4   YEAR           2909 non-null   int64  \n",
      "dtypes: float64(3), int64(2)\n",
      "memory usage: 136.4 KB\n"
     ]
    }
   ],
   "source": [
    "#remove all serviety codes that are -1 bc that means sevaity unknown and is not good for us\n",
    "coral_svm_df = coral_df[coral_df['SEVERITY_CODE'] != -1]\n",
    "coral_svm_df['SEVERITY_CODE'].value_counts()\n",
    "\n",
    "SVM_df = coral_df[['SEVERITY_CODE', 'DEPTH_CLEANED', 'LAT', 'LON', 'YEAR']]\n",
    "SVM_df = SVM_df.dropna()\n",
    "SVM_df.rename(columns={\"DEPTH_CLEANED\": \"DEPTH\"}, inplace = True)\n",
    "SVM_df.info()"
   ]
  },
  {
   "cell_type": "code",
   "execution_count": 6,
   "id": "e1301794",
   "metadata": {},
   "outputs": [],
   "source": [
    "#partition the data\n",
    "X   = SVM_df[['DEPTH', 'LAT', 'LON', 'YEAR']] #get the input features\n",
    "y   = SVM_df['SEVERITY_CODE']              #get the target\n",
    "\n",
    "X_train, X_test, y_train, y_test = train_test_split(X,              #the input features\n",
    "                                                    y,              #the label\n",
    "                                                    test_size=0.3,  #set aside 30% of the data as the test set\n",
    "                                                    random_state=7, #reproduce the results\n",
    "                                                    stratify=y      #preserve the distribution of the labels\n",
    "                                                   )"
   ]
  },
  {
   "cell_type": "code",
   "execution_count": 7,
   "id": "7cea6e54",
   "metadata": {},
   "outputs": [],
   "source": [
    "X_train = X_train.copy()\n",
    "X_test  = X_test.copy()"
   ]
  },
  {
   "cell_type": "code",
   "execution_count": 8,
   "id": "c756f5f6",
   "metadata": {},
   "outputs": [],
   "source": [
    "#normalize the numeric features\n",
    "scaler = StandardScaler()\n",
    "scaler.fit(X_train[['DEPTH', 'LAT', 'LON', 'YEAR']])\n",
    "\n",
    "X_train[['DEPTH', 'LAT', 'LON', 'YEAR']] = scaler.transform(X_train[['DEPTH', 'LAT', 'LON', 'YEAR']]) #scale the training data"
   ]
  },
  {
   "cell_type": "code",
   "execution_count": 9,
   "id": "d34d2d46",
   "metadata": {},
   "outputs": [
    {
     "data": {
      "text/html": [
       "<div>\n",
       "<style scoped>\n",
       "    .dataframe tbody tr th:only-of-type {\n",
       "        vertical-align: middle;\n",
       "    }\n",
       "\n",
       "    .dataframe tbody tr th {\n",
       "        vertical-align: top;\n",
       "    }\n",
       "\n",
       "    .dataframe thead th {\n",
       "        text-align: right;\n",
       "    }\n",
       "</style>\n",
       "<table border=\"1\" class=\"dataframe\">\n",
       "  <thead>\n",
       "    <tr style=\"text-align: right;\">\n",
       "      <th></th>\n",
       "      <th>DEPTH</th>\n",
       "      <th>LAT</th>\n",
       "      <th>LON</th>\n",
       "      <th>YEAR</th>\n",
       "    </tr>\n",
       "  </thead>\n",
       "  <tbody>\n",
       "    <tr>\n",
       "      <th>2072</th>\n",
       "      <td>0.212923</td>\n",
       "      <td>0.041190</td>\n",
       "      <td>-0.594965</td>\n",
       "      <td>-1.103600</td>\n",
       "    </tr>\n",
       "    <tr>\n",
       "      <th>2868</th>\n",
       "      <td>0.607820</td>\n",
       "      <td>0.033849</td>\n",
       "      <td>1.080712</td>\n",
       "      <td>1.357195</td>\n",
       "    </tr>\n",
       "    <tr>\n",
       "      <th>1245</th>\n",
       "      <td>1.496337</td>\n",
       "      <td>0.077256</td>\n",
       "      <td>-0.774804</td>\n",
       "      <td>0.238652</td>\n",
       "    </tr>\n",
       "    <tr>\n",
       "      <th>2751</th>\n",
       "      <td>0.076228</td>\n",
       "      <td>0.010893</td>\n",
       "      <td>0.893463</td>\n",
       "      <td>1.133487</td>\n",
       "    </tr>\n",
       "    <tr>\n",
       "      <th>1819</th>\n",
       "      <td>1.564685</td>\n",
       "      <td>0.084689</td>\n",
       "      <td>-0.644040</td>\n",
       "      <td>-1.103600</td>\n",
       "    </tr>\n",
       "    <tr>\n",
       "      <th>1025</th>\n",
       "      <td>-0.311074</td>\n",
       "      <td>0.076884</td>\n",
       "      <td>-0.774581</td>\n",
       "      <td>0.462361</td>\n",
       "    </tr>\n",
       "    <tr>\n",
       "      <th>1088</th>\n",
       "      <td>1.754539</td>\n",
       "      <td>0.076459</td>\n",
       "      <td>-0.774583</td>\n",
       "      <td>0.238652</td>\n",
       "    </tr>\n",
       "    <tr>\n",
       "      <th>203</th>\n",
       "      <td>1.063470</td>\n",
       "      <td>-0.028915</td>\n",
       "      <td>0.474966</td>\n",
       "      <td>-1.327309</td>\n",
       "    </tr>\n",
       "    <tr>\n",
       "      <th>1230</th>\n",
       "      <td>-0.508522</td>\n",
       "      <td>0.077461</td>\n",
       "      <td>-0.774919</td>\n",
       "      <td>0.238652</td>\n",
       "    </tr>\n",
       "    <tr>\n",
       "      <th>258</th>\n",
       "      <td>0.911587</td>\n",
       "      <td>0.066285</td>\n",
       "      <td>-0.561228</td>\n",
       "      <td>-1.103600</td>\n",
       "    </tr>\n",
       "  </tbody>\n",
       "</table>\n",
       "</div>"
      ],
      "text/plain": [
       "         DEPTH       LAT       LON      YEAR\n",
       "2072  0.212923  0.041190 -0.594965 -1.103600\n",
       "2868  0.607820  0.033849  1.080712  1.357195\n",
       "1245  1.496337  0.077256 -0.774804  0.238652\n",
       "2751  0.076228  0.010893  0.893463  1.133487\n",
       "1819  1.564685  0.084689 -0.644040 -1.103600\n",
       "1025 -0.311074  0.076884 -0.774581  0.462361\n",
       "1088  1.754539  0.076459 -0.774583  0.238652\n",
       "203   1.063470 -0.028915  0.474966 -1.327309\n",
       "1230 -0.508522  0.077461 -0.774919  0.238652\n",
       "258   0.911587  0.066285 -0.561228 -1.103600"
      ]
     },
     "execution_count": 9,
     "metadata": {},
     "output_type": "execute_result"
    }
   ],
   "source": [
    "#view the prepared data\n",
    "X_train.head(10)"
   ]
  },
  {
   "cell_type": "code",
   "execution_count": 10,
   "id": "2a126ff9",
   "metadata": {},
   "outputs": [
    {
     "data": {
      "text/plain": [
       "SVC()"
      ]
     },
     "execution_count": 10,
     "metadata": {},
     "output_type": "execute_result"
    }
   ],
   "source": [
    "#initialize the classifier\n",
    "\n",
    "svm = SVC() #the default kernel is rbf\n",
    "svm.fit(X_train, y_train) #fit the data"
   ]
  },
  {
   "cell_type": "code",
   "execution_count": 11,
   "id": "8a9a3c62",
   "metadata": {},
   "outputs": [],
   "source": [
    "#scale the new/test data\n",
    "X_test[['DEPTH', 'LAT', 'LON', 'YEAR']] = scaler.transform(X_test[['DEPTH', 'LAT', 'LON', 'YEAR']]) #scale the test data\n",
    "\n",
    "#predict the labels for the test set\n",
    "y_pred   = svm.predict(X_test)"
   ]
  },
  {
   "cell_type": "code",
   "execution_count": 12,
   "id": "f6d617f6",
   "metadata": {},
   "outputs": [
    {
     "name": "stdout",
     "output_type": "stream",
     "text": [
      "The accuracy of the model is: 0.5555555555555556\n"
     ]
    }
   ],
   "source": [
    "#evaluate the prediction accuracy\n",
    "print('The accuracy of the model is: {}'.format(svm.score(X_test, y_test)))"
   ]
  },
  {
   "cell_type": "code",
   "execution_count": 13,
   "id": "b0445bd5",
   "metadata": {},
   "outputs": [
    {
     "name": "stdout",
     "output_type": "stream",
     "text": [
      "{'C': 5, 'gamma': 3}\n",
      "0.6208339355398179\n"
     ]
    }
   ],
   "source": [
    "#setup the parameter grid to try values of c ranging from 1 to 10, and values for gamma ranging from 1 to 5.\n",
    "params = {'C': np.arange(1, 10),\n",
    "         'gamma': np.arange(1, 5)}\n",
    "\n",
    "svm = SVC()\n",
    "\n",
    "#initialize Grid Search with Cross Validation\n",
    "svm_grid = GridSearchCV(estimator = svm, param_grid = params, cv=5)\n",
    "svm_grid.fit(X_train, y_train)\n",
    "\n",
    "print(svm_grid.best_params_) #print the best parameters\n",
    "print(svm_grid.best_score_)  #print the best score"
   ]
  },
  {
   "cell_type": "markdown",
   "id": "452df5f3",
   "metadata": {},
   "source": [
    "An accruacy of 0.62 is not satisfactory for attempting to make predicationa about another data set. This indicates that the features that were chosen cannot be used a predictors of bleaching sevarity and that additional features are required. This also could be a side effect of this dataset being compirsed of many diffrent data sets"
   ]
  },
  {
   "cell_type": "markdown",
   "id": "ec58f9e3",
   "metadata": {},
   "source": [
    "## Algorithm 2: Linear Regression on Year and Severity Code"
   ]
  },
  {
   "cell_type": "code",
   "execution_count": 14,
   "id": "6d9fa18b",
   "metadata": {},
   "outputs": [
    {
     "data": {
      "image/png": "[encoded data removed]",
      "text/plain": [
       "<Figure size 432x288 with 1 Axes>"
      ]
     },
     "metadata": {
      "needs_background": "light"
     },
     "output_type": "display_data"
    },
    {
     "data": {
      "image/png": "[encoded data removed]",
      "text/plain": [
       "<Figure size 432x288 with 1 Axes>"
      ]
     },
     "metadata": {
      "needs_background": "light"
     },
     "output_type": "display_data"
    }
   ],
   "source": [
    "# Viewing Distribution of Bleaching Severity\n",
    "count_severity = coral_df['BLEACHING_SEVERITY'].value_counts()\n",
    "count_severity.plot(kind='bar', title=\"Bleaching Severity counts for Data Set\")\n",
    "plt.show()\n",
    "\n",
    "# Viewing Distribution of Years for data set\n",
    "count_year = coral_df['YEAR'].value_counts()\n",
    "count_year.plot(kind='bar', title=\"Recorded Year Counts for Data Set\")\n",
    "plt.show()"
   ]
  },
  {
   "cell_type": "code",
   "execution_count": 15,
   "id": "4d642e82",
   "metadata": {},
   "outputs": [
    {
     "name": "stdout",
     "output_type": "stream",
     "text": [
      "R-squared score: 0.04\n"
     ]
    },
    {
     "data": {
      "image/png": "[encoded data removed]",
      "text/plain": [
       "<Figure size 432x288 with 1 Axes>"
      ]
     },
     "metadata": {
      "needs_background": "light"
     },
     "output_type": "display_data"
    }
   ],
   "source": [
    "#Create linear regression model\n",
    "lr_model = LinearRegression(fit_intercept=True)\n",
    "# lr_df = coral_df[(coral_df['LAT'] < 20) & (coral_df['LAT'] > -20) & (coral_df['WATER_TEMPERATURE'] > 0)]\n",
    "lr_df = coral_df[(coral_df['SEVERITY_CODE'] > 0)]\n",
    "lr_df = lr_df[['YEAR', 'SEVERITY_CODE']]\n",
    "\n",
    "x = np.array(lr_df['YEAR']).reshape(-1,1)\n",
    "y = np.array(lr_df['SEVERITY_CODE']).reshape(-1,1)\n",
    "lr_model = lr_model.fit(x, y)\n",
    "\n",
    "r_squared = round(lr_model.score(x, y), 2)\n",
    "print('R-squared score:', r_squared)\n",
    "plt.scatter(x, y)\n",
    "plt.title('Severity Code over Time For Whole Data Set')\n",
    "plt.ylabel('Severity Code')\n",
    "plt.xlabel('year')\n",
    "plt.show()"
   ]
  },
  {
   "cell_type": "markdown",
   "id": "a2a547a6",
   "metadata": {},
   "source": [
    "Severity Code Legend: \n",
    "- 0 -> NO BLEACHING\n",
    "- 1 -> Low\n",
    "- 2 -> Medium\n",
    "- 3 -> HIGH"
   ]
  },
  {
   "cell_type": "code",
   "execution_count": 16,
   "id": "49160305",
   "metadata": {},
   "outputs": [
    {
     "data": {
      "image/png": "[encoded data removed]",
      "text/plain": [
       "<Figure size 432x288 with 1 Axes>"
      ]
     },
     "metadata": {
      "needs_background": "light"
     },
     "output_type": "display_data"
    },
    {
     "name": "stdout",
     "output_type": "stream",
     "text": [
      "R-squared score: 0.12\n"
     ]
    }
   ],
   "source": [
    "# Attempting Linear Regression again on means for years with sample size > 10\n",
    "df = lr_df[(lr_df['YEAR'] > 1979)] # only considering years with atleast 10 data points\n",
    "df = df.reset_index()\n",
    "# Calculating Average severity code per year \n",
    "year_avgs = {year:np.array([]) for year in df['YEAR'].unique()}\n",
    "for index, row in df.iterrows():  \n",
    "  year_avgs[row['YEAR']] = np.append(year_avgs[row['YEAR']],row['SEVERITY_CODE'])\n",
    "\n",
    "\n",
    "for key, val in year_avgs.items():\n",
    "  year_avgs[key] = round(np.mean(val), 2)\n",
    "\n",
    "avgs = pd.Series(year_avgs)\n",
    "\n",
    "def do_reg(averages):\n",
    "  x = np.array(averages.index).reshape(-1,1)\n",
    "  y = np.array(averages).reshape(-1,1)\n",
    "  plt.scatter(x, y)\n",
    "  plt.title('Mean Severity Codes over Years')\n",
    "  plt.ylabel('Severity Code')\n",
    "  plt.xlabel('year')\n",
    "  plt.show()\n",
    "\n",
    "  model = LinearRegression()\n",
    "  model = model.fit(x, y)\n",
    "\n",
    "  r_squared = round(model.score(x, y), 2)\n",
    "  print('R-squared score:', r_squared)\n",
    "\n",
    "  return model\n",
    "\n",
    "bad_model = do_reg(avgs)"
   ]
  },
  {
   "cell_type": "markdown",
   "id": "5c6eb387",
   "metadata": {},
   "source": [
    "Removing Year 1981 since it seems to be outlier and refitting the model"
   ]
  },
  {
   "cell_type": "code",
   "execution_count": 17,
   "id": "beadc7f1",
   "metadata": {},
   "outputs": [
    {
     "data": {
      "image/png": "[encoded data removed]",
      "text/plain": [
       "<Figure size 432x288 with 1 Axes>"
      ]
     },
     "metadata": {
      "needs_background": "light"
     },
     "output_type": "display_data"
    },
    {
     "name": "stdout",
     "output_type": "stream",
     "text": [
      "R-squared score: 0.28\n"
     ]
    }
   ],
   "source": [
    "# removing outlier and running regression again\n",
    "avgs_no_outlier = avgs.drop([1981])\n",
    "mean_model = do_reg(avgs_no_outlier)"
   ]
  },
  {
   "cell_type": "markdown",
   "id": "26626c1a",
   "metadata": {},
   "source": [
    "Our best model seems to have score of 0.28. Here are the predictions for the next 30 years"
   ]
  },
  {
   "cell_type": "code",
   "execution_count": 18,
   "id": "e1944d67",
   "metadata": {},
   "outputs": [
    {
     "data": {
      "image/png": "[encoded data removed]",
      "text/plain": [
       "<Figure size 432x288 with 1 Axes>"
      ]
     },
     "metadata": {
      "needs_background": "light"
     },
     "output_type": "display_data"
    }
   ],
   "source": [
    "# model predictions\n",
    "pred_years = [[2015], [2020],[2025],[2030], [2035], [2040], [2045], [2050]]\n",
    "pred_sev = mean_model.predict(pred_years)\n",
    "plt.title(\"Model Predictions\")\n",
    "plt.scatter(pred_years, pred_sev)\n",
    "plt.show()"
   ]
  },
  {
   "cell_type": "markdown",
   "id": "3ce51d77",
   "metadata": {},
   "source": [
    "# Algorithm 3: Regression on the Diveristy of Species and the Mean Temprature"
   ]
  },
  {
   "cell_type": "code",
   "execution_count": 19,
   "id": "e3714595",
   "metadata": {},
   "outputs": [],
   "source": [
    "# Read in csv - supp data from nature communication study\n",
    "supp_df = pd.read_csv('supp_data_2.csv')"
   ]
  },
  {
   "cell_type": "code",
   "execution_count": 20,
   "id": "9e1fc236",
   "metadata": {},
   "outputs": [
    {
     "name": "stdout",
     "output_type": "stream",
     "text": [
      "R-squared score: 0.16\n"
     ]
    },
    {
     "data": {
      "image/png": "[encoded data removed]",
      "text/plain": [
       "<Figure size 432x288 with 1 Axes>"
      ]
     },
     "metadata": {
      "needs_background": "light"
     },
     "output_type": "display_data"
    }
   ],
   "source": [
    "def linear_regression(ind_var, dep_var):\n",
    "    '''Function to perform linear regression on two variables'''\n",
    "    # Create linear regression model\n",
    "    lr_model = LinearRegression(fit_intercept=True)\n",
    "    # filter df to releveant columns\n",
    "    lr_df = supp_df[[ind_var, dep_var]]\n",
    "    # drop nan values\n",
    "    lr_df = lr_df.dropna().reset_index(drop=True)\n",
    "    # convert to x and y arrays\n",
    "    X = lr_df[ind_var].values.reshape(len(lr_df), 1)\n",
    "    y = lr_df[dep_var].values.reshape(len(lr_df), 1)\n",
    "    # fit the linear regression model\n",
    "    lr_model = lr_model.fit(X, y)\n",
    "    # Get r_squared from linear regression model\n",
    "    r_squared = round(lr_model.score(X, y), 2)\n",
    "    print('R-squared score:', r_squared)\n",
    "    # Predict y values using model\n",
    "    y_predicted = lr_model.predict(X)\n",
    "    # plot results\n",
    "    plt.scatter(X, y)\n",
    "    plt.scatter(X, y_predicted)\n",
    "    plt.title('Linear Regression on Diversity and Mean Temperature')\n",
    "    plt.ylabel('Diversity (number of species)')\n",
    "    plt.xlabel('Mean Temperature in kelvin')\n",
    "    plt.show()\n",
    "\n",
    "# Linear regression on temperature mean and diversity in coral reefs\n",
    "linear_regression('Temperature_Mean', 'Diversity')"
   ]
  },
  {
   "cell_type": "code",
   "execution_count": 21,
   "id": "106584b1",
   "metadata": {},
   "outputs": [
    {
     "data": {
      "image/png": "[encoded data removed]",
      "text/plain": [
       "<Figure size 432x288 with 1 Axes>"
      ]
     },
     "metadata": {
      "needs_background": "light"
     },
     "output_type": "display_data"
    }
   ],
   "source": [
    "def poly_regression(ind_var, dep_var):\n",
    "    '''Function to perform binomial linear regression'''\n",
    "    # Create polynomial regression model\n",
    "    poly_reg=PolynomialFeatures(degree=2, include_bias=False)\n",
    "    # Create linear regression model\n",
    "    lr_model = LinearRegression(fit_intercept=True)\n",
    "    # Filter df to relevant columns\n",
    "    lr_df = supp_df[[ind_var, dep_var]]\n",
    "    # drop nan values\n",
    "    lr_df = lr_df.dropna().reset_index(drop=True)\n",
    "    # Create x and y arrays\n",
    "    X = lr_df[ind_var].values.reshape(len(lr_df), 1)\n",
    "    y = lr_df[dep_var].values.reshape(len(lr_df), 1)\n",
    "    # Create transformed x values for linear regression\n",
    "    poly_features = poly_reg.fit_transform(X)\n",
    "    # fit to linear regression model\n",
    "    lr_model.fit(poly_features, y)\n",
    "    # Predict y values\n",
    "    y_predicted = lr_model.predict(poly_features)\n",
    "    # Plot results\n",
    "    plt.scatter(X, y_predicted)\n",
    "    plt.scatter(X, y)\n",
    "    plt.title('Binomial Linear Regression ')\n",
    "    plt.ylabel('Diversity')\n",
    "    plt.xlabel('Latitude')\n",
    "    plt.show()\n",
    "\n",
    "# Polynomial Linear regression on diversity and latitude in coral reefs (north/south position of reef)\n",
    "poly_regression('Latitude.Degrees', 'Diversity')"
   ]
  }
 ],
 "metadata": {
  "kernelspec": {
   "display_name": "Python 3 (ipykernel)",
   "language": "python",
   "name": "python3"
  },
  "language_info": {
   "codemirror_mode": {
    "name": "ipython",
    "version": 3
   },
   "file_extension": ".py",
   "mimetype": "text/x-python",
   "name": "python",
   "nbconvert_exporter": "python",
   "pygments_lexer": "ipython3",
   "version": "3.9.7"
  }
 },
 "nbformat": 4,
 "nbformat_minor": 5
}
